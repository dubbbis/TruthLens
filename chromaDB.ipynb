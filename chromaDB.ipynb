{
 "cells": [
  {
   "cell_type": "markdown",
   "metadata": {},
   "source": [
    "# Intro to ChromaDB "
   ]
  },
  {
   "cell_type": "code",
   "execution_count": 2,
   "metadata": {},
   "outputs": [],
   "source": [
    "import os\n",
    "import chromadb\n",
    "import json\n",
    "\n",
    "import shutil  # ✅ Properly handles folder deletion\n",
    "\n",
    "import requests\n",
    "import time\n"
   ]
  },
  {
   "cell_type": "markdown",
   "metadata": {},
   "source": [
    "### Step 1: ChromaDB setup\n",
    "Checking for ChromaDB, creating if its not there\n",
    "\n",
    "Option to purge DB and recreate from news.json file"
   ]
  },
  {
   "cell_type": "code",
   "execution_count": null,
   "metadata": {},
   "outputs": [
    {
     "name": "stdout",
     "output_type": "stream",
     "text": [
      "✅ ChromaDB instance found. Using existing database.\n",
      "⚠️ Purging existing ChromaDB...\n",
      "✅ ChromaDB successfully reset.\n",
      "✅ Collection 'news_articles' recreated after purge.\n",
      "✅ ChromaDB is ready to use.\n",
      "📊 Existing articles in ChromaDB: 0\n",
      "✅ 49 new articles added to ChromaDB.\n"
     ]
    }
   ],
   "source": [
    "# 🔹 CONFIG: Set `purge_db = True` to DELETE & RESET the database\n",
    "purge_db = False  # Set to True to delete existing DB and start fresh\n",
    "\n",
    "# ✅ Define ChromaDB path\n",
    "CHROMA_DB_PATH = \"./chroma_db\"\n",
    "COLLECTION_NAME = \"news_articles\"\n",
    "\n",
    "# 🔍 Check if ChromaDB exists\n",
    "if not os.path.exists(CHROMA_DB_PATH):\n",
    "    print(\"⚠️ ChromaDB instance not found. Creating a new one...\")\n",
    "    os.makedirs(CHROMA_DB_PATH)\n",
    "else:\n",
    "    print(\"✅ ChromaDB instance found. Using existing database.\")\n",
    "\n",
    "# 🔥 Purge Database If `purge_db` is Enabled\n",
    "if purge_db:\n",
    "    print(\"⚠️ Purging existing ChromaDB...\")\n",
    "    shutil.rmtree(CHROMA_DB_PATH, ignore_errors=True)  # ✅ Remove the directory properly\n",
    "    os.makedirs(CHROMA_DB_PATH, exist_ok=True)  # ✅ Recreate empty directory\n",
    "    print(\"✅ ChromaDB successfully reset.\")\n",
    "\n",
    "# ✅ Reinitialize ChromaDB Client (needed after purge)\n",
    "client = chromadb.PersistentClient(path=CHROMA_DB_PATH)\n",
    "\n",
    "# ✅ Recreate Collection If Purged\n",
    "if purge_db:\n",
    "    try:\n",
    "        client.delete_collection(COLLECTION_NAME)  # ✅ Properly delete existing collection\n",
    "    except Exception:\n",
    "        pass  # Ignore errors if collection doesn't exist\n",
    "    collection = client.create_collection(COLLECTION_NAME)  # ✅ Recreate the collection\n",
    "    print(f\"✅ Collection '{COLLECTION_NAME}' recreated after purge.\")\n",
    "else:\n",
    "    # ✅ Load existing collection\n",
    "    try:\n",
    "        collection = client.get_collection(COLLECTION_NAME)\n",
    "        print(f\"✅ Collection '{COLLECTION_NAME}' found.\")\n",
    "    except Exception:\n",
    "        print(f\"⚠️ Collection '{COLLECTION_NAME}' not found. Creating a new one...\")\n",
    "        collection = client.create_collection(COLLECTION_NAME)\n",
    "\n",
    "print(f\"✅ ChromaDB is ready to use.\")\n",
    "\n",
    "# ✅ Load articles from news.json\n",
    "with open(\"news.json\", \"r\", encoding=\"utf-8\") as f:\n",
    "    news_articles = json.load(f)\n",
    "\n",
    "# ✅ Get existing document IDs in ChromaDB (only if NOT purging)\n",
    "existing_ids = set(collection.get()[\"ids\"]) if not purge_db else set()\n",
    "print(f\"📊 Existing articles in ChromaDB: {len(existing_ids)}\")\n",
    "\n",
    "# ✅ Insert articles (skip duplicates)\n",
    "new_entries = []\n",
    "for article in news_articles:\n",
    "    article_id = article[\"url\"]\n",
    "    if article_id not in existing_ids:  # Avoid duplicates\n",
    "        new_entries.append({\n",
    "            \"document\": article[\"content\"],\n",
    "            \"metadata\": {\"title\": article[\"title\"], \"url\": article[\"url\"]},\n",
    "            \"id\": article_id\n",
    "        })\n",
    "\n",
    "# ✅ Add new articles to ChromaDB\n",
    "if new_entries:\n",
    "    collection.add(\n",
    "        documents=[entry[\"document\"] for entry in new_entries],\n",
    "        metadatas=[entry[\"metadata\"] for entry in new_entries],\n",
    "        ids=[entry[\"id\"] for entry in new_entries]\n",
    "    )\n",
    "    print(f\"✅ {len(new_entries)} new articles added to ChromaDB.\")\n",
    "else:\n",
    "    print(\"🔹 No new articles added. Database is up to date.\")\n"
   ]
  },
  {
   "cell_type": "markdown",
   "metadata": {},
   "source": [
    "### Checking for new articles to add"
   ]
  },
  {
   "cell_type": "code",
   "execution_count": null,
   "metadata": {},
   "outputs": [
    {
     "name": "stdout",
     "output_type": "stream",
     "text": [
      "📊 Total existing articles in ChromaDB: 49\n",
      "🔹 No new articles to add. Database is up to date.\n"
     ]
    }
   ],
   "source": [
    "\n",
    "# ✅ Initialize ChromaDB Client\n",
    "CHROMA_DB_PATH = \"./chroma_db\"\n",
    "COLLECTION_NAME = \"news_articles\"\n",
    "\n",
    "client = chromadb.PersistentClient(path=CHROMA_DB_PATH)\n",
    "collection = client.get_or_create_collection(COLLECTION_NAME)\n",
    "\n",
    "# ✅ Load existing document IDs in ChromaDB\n",
    "existing_ids = set(collection.get()[\"ids\"])  # Convert to set for fast lookups\n",
    "print(f\"📊 Total existing articles in ChromaDB: {len(existing_ids)}\")\n",
    "\n",
    "# ✅ Load new articles from JSON\n",
    "with open(\"RAG/news.json\", \"r\", encoding=\"utf-8\") as f:\n",
    "    news_articles = json.load(f)\n",
    "\n",
    "# ✅ Add only NEW articles to ChromaDB\n",
    "new_entries = []\n",
    "for article in news_articles:\n",
    "    article_id = article[\"url\"]  # Using URL as a unique ID\n",
    "    if article_id not in existing_ids:\n",
    "        new_entries.append({\n",
    "            \"document\": article[\"content\"],\n",
    "            \"metadata\": {\"title\": article[\"title\"], \"url\": article[\"url\"]},\n",
    "            \"id\": article_id\n",
    "        })\n",
    "\n",
    "# ✅ Insert new entries if any\n",
    "if new_entries:\n",
    "    collection.add(\n",
    "        documents=[entry[\"document\"] for entry in new_entries],\n",
    "        metadatas=[entry[\"metadata\"] for entry in new_entries],\n",
    "        ids=[entry[\"id\"] for entry in new_entries]\n",
    "    )\n",
    "    print(f\"✅ {len(new_entries)} new articles added to ChromaDB.\")\n",
    "else:\n",
    "    print(\"🔹 No new articles to add. Database is up to date.\")\n"
   ]
  },
  {
   "cell_type": "markdown",
   "metadata": {},
   "source": [
    "### Testing queries in the ChromaDB"
   ]
  },
  {
   "cell_type": "code",
   "execution_count": 6,
   "metadata": {},
   "outputs": [
    {
     "name": "stdout",
     "output_type": "stream",
     "text": [
      "🔹 Retrieved: Five years after the first wave of the COVID-19 pandemic, we’re starting to see how that event has accelerated mistrust toward some traditional news outlets. Yet, As trust in national news erodes, platforms like local radio appear to be holding onto credibility.\n",
      "\n",
      "A new Pew Research Center report found 54% of Americans believe the media exaggerated COVID risks.\n",
      "\n",
      "Pew reports this view was overwhelmingly held by Republicans, with 80% saying coverage overstated the dangers, compared to just 30% of Democrats. The pandemic also reinforced a partisan divide in confidence toward accessing reliable health information. While 74% of Democrats express confidence in their ability to find accurate information during a future health crisis, only 46% of Republicans share that view.\n",
      "\n",
      "Overall, just 60% of Americans feel prepared to navigate a future health emergency, reflecting ongoing skepticism about official sources.\n",
      "\n",
      "The study also highlights a broader shift in media trust, particularly among Republicans and younger adults. Republicans are now nearly as likely to trust social media (37%) as they are national news organizations, a stark contrast to 2016 when 70% trusted traditional news outlets. However, 66% of Republicans still express trust in local news, signaling a preference for community-based reporting over national coverage.\n",
      "\n",
      "Among Democrats, the trust gap remains significant. While 78% still trust national news organizations, only 38% say they trust social media as a news source.\n",
      "\n",
      "The most pronounced changes appear among younger Americans. Adults under 30 now report near-equal trust in social media (52%) and national news (56%). That trust declines sharply with age – only 22% of adults 65 and older rely on social media for news, while 61% trust national media and 78% trust local sources.\n",
      "\n",
      "Local news remains the most credible source across demographics, but within the Democratic Party, a generational divide is growing. Democrats 50+ are far more likely to trust national news (86%) compared to Democrats under 30 (69%).\n",
      "\n",
      "This can likely help explain radio’s trust advantage among legacy media platforms. Last year, Katz Radio Group found traditional radio to be the most trusted mass medium. The survey of 1,000 U.S. adults found that nearly 80% consider radio trustworthy or very trustworthy, surpassing newspapers and ranking more than ten points ahead of television and magazines.\n",
      "\n",
      "Additional data from Morning Consult reinforces radio’s position as the most credible news source, with trust in AM/FM rising from 60% to 63% over the past four years.\n",
      "🔹 Retrieved: PARIS (AP) — French President Emmanuel Macron called leaders from key European Union nations and the United Kingdom to his…\n",
      "\n",
      "PARIS (AP) — French President Emmanuel Macron called leaders from key European Union nations and the United Kingdom to his ornate Elysee Palace on Monday for an emergency meeting on how to react to the U.S. diplomatic blitz on Ukraine, which left the once rock-solid partner as a potential political liability.\n",
      "\n",
      "The first visit by top U.S. officials to Europe has left the impression that the Trump administration was ready to embrace the Kremlin while it cold-shouldered many of its age-old European allies.\n",
      "\n",
      "Despite belligerent warnings for months ahead of Donald Trump’s reelection as U.S. president, EU leaders publicly ignored the ominous forebodings and somehow hoped Trump would stand side by side with Europe, as it would finally start to act on beefing up its defenses and become less reliant on the firepower of Washington.\n",
      "\n",
      "But a flurry of speeches by Vice President JD Vance and Defense Secretary Pete Hegseth during their initial visits to Europe last week questioned both Europe’s security commitments and its fundamental democratic principles. Macron said their stinging rebukes and threats of non-cooperation in the face of military danger felt like a shock to the system.\n",
      "\n",
      "The tipping point came when Trump decided to upend years of U.S. policy by holding talks with Russian President Vladimir Putin in hopes of ending the Russia-Ukraine war. Then, Trump’s special envoy for Ukraine and Russia on Saturday all but ruled out the inclusion of other Europeans in any Ukraine peace talks.\n",
      "\n",
      "Annalena Baerbock, Germany’s foreign minister, called the week “an existential moment. It’s a moment where Europe has to stand up.” It is where Macron hopes to step in with Monday’s meeting. Even if Jean-Noël Barrot, Macron’s foreign minister, sought to play down the significance of the emergency huddle of Europe’s main leaders, the weekend scramble to set up the meeting underscored something much more fundamental.\n",
      "\n",
      "Ever since World War II, the United States and western European nations have basically walked in lockstep as they confronted the Soviet Union during the Cold War right up to the increasingly aggressive actions of current-day Russia close to its borders. Even if there had long been U.S. complaints about the reluctance of many European NATO nations to step up their defense efforts, they never boiled up to the political surface as they have over the past days.\n",
      "\n",
      "On Monday, Macron will have afternoon talks with the leaders of Germany, the United Kingdom, Italy, Poland, Spain, the Netherlands, Denmark and the European Union on how to deal with Europe’s security quandary. NATO Secretary General Mark Rutte will also attend.\n",
      "\n",
      "French officials said no firm decisions are expected to emerge beyond a show of unity of European leaders.\n",
      "\n",
      "“There is a wind of unity blowing over Europe, as we perhaps have not felt since the COVID period,” said Barrot, referring to the pandemic in 2020 when the 27 EU nations had to stand side by side to stave off a health catastrophe.\n",
      "\n",
      "A strong U.S. link, though, will remain essential for the foreseeable future since it will take many years before European nations can ratchet up defense equipment production and integrate it into an effective force.\n",
      "\n",
      "That U.S. bond also applies to dealing with war in Ukraine, said U.K. Prime Minister Keir Starmer. “U.S. support will remain critical and a U.S. security guarantee is essential for a lasting peace, because only the U.S. can deter Putin from attacking again,” Starmer wrote in Monday’s Daily Telegraph.\n",
      "\n",
      "European nations are bent on boosting Ukraine where they can, and EU nations see eye to eye when it comes to upping defense spending. However, even if there is a general consensus to move beyond the goal of spending 2% of gross domestic product on defense, it is hardly clear how to get to 3%.\n",
      "\n",
      "Some EU nations are insisting on an agreement on joint borrowing for massive defense projects, while others are insisting it is the task of the nations that lag in spending to get to the 2% threshold first. That issue is also set to be discussed at the meeting.\n",
      "\n",
      "But some of the EU nations balked at the thought of the restrictive Elysee meeting with only a few chosen leaders while others were left in the cold. For an uncomfortable number of decisions, the EU needs the backing of all 27 nations. It raises the issue of veto power, which Hungarian Prime Minister Viktor Orban as a staunch Putin ally, has already threatened to use on plenty of occasions.\n",
      "\n",
      "Slovenian President Nataša Pirc Musar said the selective list of invitees was proof that the EU member states are not treated equally. “This is not Europe that commands respect abroad. This is not the Europe that would be a serious partner to the North American ally.”\n",
      "\n",
      "____\n",
      "\n",
      "Casert reported from Brussels. Associated Press writer Dusan Stojanovic in Belgrade, Serbia contributed to this report.\n",
      "\n",
      "Copyright © 2025 The Associated Press. All rights reserved. This material may not be published, broadcast, written or redistributed.\n",
      "🔹 Retrieved: Repercussions of Milei's support for cryptocurrency that vanishes\n",
      "\n",
      "17th Monday, February 2025 - 10:55 UTC Full article\n",
      "\n",
      "The opposition is pushing for the President's impeachment in addition to filing criminal charges against him\n",
      "\n",
      "Argentine President Javier Milei is under heavy flak after praising the $LIBRA cryptocurrency token, which would boost the country's development from the private sector, only to vanish into thin air after many investors trusted in the advice of the head of State, who is also a graduate economist.\n",
      "\n",
      "The world wants to invest in Argentina. $LIBRA, Milei wrote Friday as he explained that the $LIBRA cryptocurrency was a private project that was going to be dedicated to ”incentivize the growth of the Argentine economy, funding (financing) small Argentine companies and enterprises. He forgot that blockchain technology has no backing in real money. Still, Milei's endorsement led to a dramatic increase in the token's value, reaching a market cap of around US$ 4.56 billion. However, within hours, it crashed, losing over 94% of its value, leaving many investors with significant losses.\n",
      "\n",
      "There are allegations that the sudden rise and fall of $LIBRA might have been a rug pull or an insider trading scam, where developers or insiders sold off their holdings after the price was artificially inflated. This has led to accusations of fraud and calls for an investigation into the project's legitimacy.\n",
      "\n",
      "Milei, who has stopped posting on social media after apologizing for his previous comment, which he deleted, ordered the Anti-Corruption Office to launch an investigation into the matter while the opposition is pushing for his impeachment for the alleged violation of the ethics law and other norms, in addition to at least 112 suits seeking to hold him financially accountable.\n",
      "\n",
      "Argentine investors were reported to be cautious for Monday when a significant fall in the stock market is foreseen. The fallout has led to discussions about regulation, ethics in cryptocurrency promotion, and the role of political figures. The situation has also sparked debates on the need for better investor protection in the crypto space.\n",
      "\n",
      "I was not aware of the details of the project and after I became familiar with it I decided not to continue disseminating it, Milei said in his apology message.\n",
      "\n",
      "He also announced the creation of an Investigative Task Force Unit to handle the $LIBRA cryptocurrency scandal and all the companies or individuals involved in said operation,” the Casa Rosada noted.\n",
      "\n",
      "According to the magazine The Kobeissi Letter, about 80% of the $LIBRA asset was in the hands of very few holders before Milei's support. After the president's message, it grew exponentially in value, after which holders began selling making millions in profits and then the value of the asset collapsed.\n",
      "\n",
      "The opposition Unión por la Patria (Peronism) said Milei's impeachment was in order but former President Mauricio Macri's Propuesta Republicana (PRO) downplayed the incident and warned that it would prevent the removal procedure from succeeding.\n",
      "\n",
      "Meanwhile, the Presidential Secretary and sister Karina Milei reportedly suggested Justice Minister Mariano Cúneo Libarona - a seasoned criminal lawyer - should resign to handle Milei's defense. In any case, she and Economy Minister Luis Toto Caputo participated in a support gathering rally in Buenos Aires Sunday for this year's mid-term elections where the $LIBRA case was not even mentioned.\n"
     ]
    }
   ],
   "source": [
    "from chromadb import Client\n",
    "\n",
    "query = \"Is democracy going well?\"\n",
    "results = collection.query(query_texts=[query], n_results=3)\n",
    "\n",
    "for res in results['documents'][0]:\n",
    "    print(\"🔹 Retrieved:\", res)\n"
   ]
  },
  {
   "cell_type": "markdown",
   "metadata": {},
   "source": [
    "### Doing Analysis on the stored values in ChromaDB"
   ]
  },
  {
   "cell_type": "code",
   "execution_count": null,
   "metadata": {},
   "outputs": [],
   "source": []
  },
  {
   "cell_type": "code",
   "execution_count": null,
   "metadata": {},
   "outputs": [],
   "source": []
  },
  {
   "cell_type": "code",
   "execution_count": null,
   "metadata": {},
   "outputs": [],
   "source": []
  },
  {
   "cell_type": "code",
   "execution_count": null,
   "metadata": {},
   "outputs": [],
   "source": []
  }
 ],
 "metadata": {
  "kernelspec": {
   "display_name": ".venv",
   "language": "python",
   "name": "python3"
  },
  "language_info": {
   "codemirror_mode": {
    "name": "ipython",
    "version": 3
   },
   "file_extension": ".py",
   "mimetype": "text/x-python",
   "name": "python",
   "nbconvert_exporter": "python",
   "pygments_lexer": "ipython3",
   "version": "3.11.3"
  }
 },
 "nbformat": 4,
 "nbformat_minor": 2
}
