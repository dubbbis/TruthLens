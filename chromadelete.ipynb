{
 "cells": [
  {
   "cell_type": "markdown",
   "metadata": {},
   "source": [
    "### Be careful! You can use this to delete a chroma DB folder entirely"
   ]
  },
  {
   "cell_type": "code",
   "execution_count": null,
   "metadata": {},
   "outputs": [
    {
     "name": "stdout",
     "output_type": "stream",
     "text": [
      "⚠️ Deleting ChromaDB at ./chroma_db...\n",
      "✅ ChromaDB deleted successfully.\n"
     ]
    }
   ],
   "source": [
    "'''\n",
    "import os\n",
    "import shutil\n",
    "\n",
    "# Path to the subfile ChromaDB directory (update this path if needed)\n",
    "SUBFILE_DB_PATH = \"./chroma_db\"\n",
    "\n",
    "# Check if the directory exists\n",
    "if os.path.exists(SUBFILE_DB_PATH):\n",
    "    print(f\"⚠️ Deleting ChromaDB at {SUBFILE_DB_PATH}...\")\n",
    "\n",
    "    # Ensure no locks remain before deletion\n",
    "    try:\n",
    "        shutil.rmtree(SUBFILE_DB_PATH, ignore_errors=False)\n",
    "        print(\"✅ ChromaDB deleted successfully.\")\n",
    "    except Exception as e:\n",
    "        print(f\"❌ Error deleting ChromaDB: {e}\")\n",
    "\n",
    "else:\n",
    "    print(\"🔹 No ChromaDB found at the specified path.\")\n",
    "'''"
   ]
  }
 ],
 "metadata": {
  "kernelspec": {
   "display_name": ".venv",
   "language": "python",
   "name": "python3"
  },
  "language_info": {
   "codemirror_mode": {
    "name": "ipython",
    "version": 3
   },
   "file_extension": ".py",
   "mimetype": "text/x-python",
   "name": "python",
   "nbconvert_exporter": "python",
   "pygments_lexer": "ipython3",
   "version": "3.11.3"
  }
 },
 "nbformat": 4,
 "nbformat_minor": 2
}
