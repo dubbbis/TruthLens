{
 "cells": [
  {
   "cell_type": "markdown",
   "metadata": {},
   "source": [
    "# Using Unstructured to scrape and bring in test News Articles"
   ]
  },
  {
   "cell_type": "markdown",
   "metadata": {},
   "source": [
    "## Text here explaining whats needed to install\n",
    "\n",
    "pip install unstructured requests json5\n"
   ]
  },
  {
   "cell_type": "code",
   "execution_count": 14,
   "metadata": {},
   "outputs": [
    {
     "name": "stderr",
     "output_type": "stream",
     "text": [
      "[nltk_data] Downloading package averaged_perceptron_tagger to\n",
      "[nltk_data]     C:\\Users\\Edu\\AppData\\Roaming\\nltk_data...\n",
      "[nltk_data]   Package averaged_perceptron_tagger is already up-to-\n",
      "[nltk_data]       date!\n"
     ]
    },
    {
     "name": "stdout",
     "output_type": "stream",
     "text": [
      "244\n",
      "5179\n",
      "62772\n",
      "6447\n",
      "244\n",
      "✅ News articles saved with full content.\n"
     ]
    }
   ],
   "source": [
    "import requests\n",
    "import json\n",
    "\n",
    "import nltk\n",
    "nltk.download('averaged_perceptron_tagger')\n",
    "\n",
    "\n",
    "# API Key for Mediastack\n",
    "API_KEY = \"356bb7cd80f02083d604ba6ba1dfadd8\"  # Replace with your actual API key\n",
    "\n",
    "# URL for Mediastack API\n",
    "url = f\"http://api.mediastack.com/v1/news?access_key={API_KEY}&languages=en&limit=5\"  # Modify the query as needed\n",
    "\n",
    "response = requests.get(url)\n",
    "data = response.json()\n",
    "\n",
    "# Limit the number of articles\n",
    "X = 5  # Change this value to limit the number of articles\n",
    "articles = data.get(\"data\", [])[:X]  # Slice the list to only process X articles\n",
    "\n",
    "def extract_full_text(url):\n",
    "    \"\"\"Extracts full article text using Unstructured.\"\"\"\n",
    "    try:\n",
    "        headers = {'User-Agent': 'Mozilla/5.0'}\n",
    "        page = requests.get(url, headers=headers)\n",
    "\n",
    "        # Process the HTML and extract meaningful text\n",
    "        elements = partition_html(text=page.text)\n",
    "        extracted_text = \"\\n\".join([el.text for el in elements if el.text.strip()])\n",
    "\n",
    "        return extracted_text if extracted_text else \"Content could not be extracted.\"\n",
    "    except Exception as e:\n",
    "        return f\"Error extracting content: {str(e)}\"\n",
    "\n",
    "# Process each article\n",
    "news_data = []\n",
    "for a in articles:\n",
    "    full_text = extract_full_text(a[\"url\"])\n",
    "    print(len(full_text))\n",
    "    news_data.append({\n",
    "        \"title\": a[\"title\"],\n",
    "        \"url\": a[\"url\"],\n",
    "        \"content\": full_text\n",
    "    })\n",
    "\n",
    "# Save extracted articles to JSON\n",
    "with open(\"news.json\", \"w\", encoding=\"utf-8\") as f:\n",
    "    json.dump(news_data, f, indent=4)\n",
    "\n",
    "print(\"✅ News articles saved with full content.\")\n",
    "\n",
    "\n",
    "\n",
    "\n"
   ]
  },
  {
   "cell_type": "code",
   "execution_count": null,
   "metadata": {},
   "outputs": [],
   "source": []
  },
  {
   "cell_type": "code",
   "execution_count": null,
   "metadata": {},
   "outputs": [],
   "source": []
  },
  {
   "cell_type": "code",
   "execution_count": null,
   "metadata": {},
   "outputs": [],
   "source": []
  },
  {
   "cell_type": "code",
   "execution_count": null,
   "metadata": {},
   "outputs": [],
   "source": []
  },
  {
   "cell_type": "code",
   "execution_count": null,
   "metadata": {},
   "outputs": [],
   "source": []
  },
  {
   "cell_type": "code",
   "execution_count": null,
   "metadata": {},
   "outputs": [],
   "source": []
  },
  {
   "cell_type": "code",
   "execution_count": null,
   "metadata": {},
   "outputs": [],
   "source": []
  }
 ],
 "metadata": {
  "kernelspec": {
   "display_name": ".venv",
   "language": "python",
   "name": "python3"
  },
  "language_info": {
   "codemirror_mode": {
    "name": "ipython",
    "version": 3
   },
   "file_extension": ".py",
   "mimetype": "text/x-python",
   "name": "python",
   "nbconvert_exporter": "python",
   "pygments_lexer": "ipython3",
   "version": "3.11.3"
  }
 },
 "nbformat": 4,
 "nbformat_minor": 2
}
