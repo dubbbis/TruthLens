{
 "cells": [
  {
   "cell_type": "markdown",
   "metadata": {},
   "source": [
    "## Explanation of the Code\n",
    "\n",
    "1️⃣ **Fetch news from Mediastack**  \n",
    "   - Fetches articles based on your API key and fetch limit (e.g., 10 articles).\n",
    "\n",
    "2️⃣ **Check for paywalled articles**  \n",
    "   - Skips articles from known paywalled domains (e.g., New York Times).\n",
    "\n",
    "3️⃣ **Extract full article text**  \n",
    "   - Attempts to extract text using `newspaper3k`, `Unstructured`, and `BeautifulSoup`.\n",
    "\n",
    "4️⃣ **Store articles in JSON**  \n",
    "   - Saves the articles in a JSON file (`news.json`).\n",
    "\n",
    "5️⃣ **Convert text to embeddings**  \n",
    "   - Uses the `SentenceTransformer` to generate embeddings for each article's text.\n",
    "\n",
    "6️⃣ **Store embeddings in ChromaDB**  \n",
    "   - Adds the generated embeddings into ChromaDB for semantic search.\n"
   ]
  },
  {
   "cell_type": "markdown",
   "metadata": {},
   "source": [
    "--- ## NOTE: the current chroma_db directory is one up, if this structure changes, it needs to change too. \\\n",
    "find it below"
   ]
  },
  {
   "cell_type": "markdown",
   "metadata": {},
   "source": [
    "### to install\n",
    "\n",
    "pip install fake-useragent && pip install newspaper3k && pip install lxml_html_clean"
   ]
  },
  {
   "cell_type": "code",
   "execution_count": 2,
   "metadata": {},
   "outputs": [
    {
     "name": "stdout",
     "output_type": "stream",
     "text": [
      "🔍 [1/5] Processing: https://www.wtvq.com/two-suspects-shot-killed-during-a-home-invasion-in-clay-county/\n",
      "🔍 [2/5] Processing: https://euroweeklynews.com/2025/02/17/estepona-home-support-24-hour/\n",
      "🔍 [3/5] Processing: https://www.theborneopost.com/2025/02/17/tyt-welcomes-courtesy-visit-by-cuepacs-sarawak-delegation/\n",
      "🔍 [4/5] Processing: http://www.panarmenian.net/eng/news/319451/\n",
      "🔍 [5/5] Processing: https://americansongwriter.com/chris-stapleton-dale-earnhardt-jr-team-up-for-top-10-finish-at-daytona-500/\n",
      "✅ 5 articles saved in 'news.json'.\n"
     ]
    }
   ],
   "source": [
    "import requests\n",
    "import json\n",
    "import time\n",
    "from unstructured.partition.html import partition_html\n",
    "from bs4 import BeautifulSoup\n",
    "from fake_useragent import UserAgent\n",
    "from newspaper import Article\n",
    "\n",
    "# 🔹 CONFIGURATION: Define the Mediastack API and the number of articles to fetch\n",
    "API_KEY = \"356bb7cd80f02083d604ba6ba1dfadd8\"\n",
    "MAX_ARTICLES = 5  # Change this to limit results\n",
    "\n",
    "# Mediastack Base URL\n",
    "BASE_URL = f\"http://api.mediastack.com/v1/news?access_key={API_KEY}&countries=us&limit={MAX_ARTICLES}\"\n",
    "\n",
    "# List of known paywalled domains\n",
    "paywalled_domains = [\"nytimes.com\", \"washingtonpost.com\", \"theatlantic.com\", \"bloomberg.com\"]\n",
    "\n",
    "# User-Agent Rotator\n",
    "ua = UserAgent()\n",
    "\n",
    "def is_paywalled(url):\n",
    "    \"\"\"Check if the article is from a paywalled domain.\"\"\"\n",
    "    return any(domain in url for domain in paywalled_domains)\n",
    "\n",
    "def extract_full_text(url):\n",
    "    \"\"\"Extract full article text using newspaper3k, Unstructured, and BeautifulSoup.\"\"\"\n",
    "    try:\n",
    "        headers = {'User-Agent': ua.random}\n",
    "        page = requests.get(url, headers=headers, timeout=10)\n",
    "\n",
    "        if page.status_code != 200:\n",
    "            return f\"Error: Page returned status code {page.status_code}\"\n",
    "\n",
    "        # Attempt 1: newspaper3k (best for full-text extraction)\n",
    "        article = Article(url)\n",
    "        article.download()\n",
    "        article.parse()\n",
    "        if len(article.text) > 500:\n",
    "            return article.text\n",
    "\n",
    "        # Attempt 2: Unstructured (fallback)\n",
    "        elements = partition_html(text=page.text)\n",
    "        extracted_text = \"\\n\".join([el.text for el in elements if el.text.strip()])\n",
    "        if len(extracted_text) > 500:\n",
    "            return extracted_text\n",
    "\n",
    "        # Attempt 3: BeautifulSoup (last resort)\n",
    "        soup = BeautifulSoup(page.text, \"html.parser\")\n",
    "        paragraphs = soup.find_all(\"p\")\n",
    "        extracted_text = \"\\n\".join([p.get_text() for p in paragraphs])\n",
    "        return extracted_text if len(extracted_text) > 500 else \"Content could not be extracted.\"\n",
    "\n",
    "    except Exception as e:\n",
    "        return f\"Error extracting content: {str(e)}\"\n",
    "\n",
    "# 🔹 Fetch news from Mediastack\n",
    "response = requests.get(BASE_URL)\n",
    "news_data = response.json().get(\"data\", [])[:MAX_ARTICLES]  # Limit articles\n",
    "\n",
    "articles_list = []\n",
    "\n",
    "# 🔹 Process each article\n",
    "for i, article in enumerate(news_data):\n",
    "    url = article.get(\"url\", \"\")\n",
    "\n",
    "    if not url or is_paywalled(url):\n",
    "        print(f\"🚫 Skipping paywalled article: {url}\")\n",
    "        continue\n",
    "\n",
    "    print(f\"🔍 [{i+1}/{MAX_ARTICLES}] Processing: {url}\")\n",
    "    full_text = extract_full_text(url)\n",
    "\n",
    "    # ✅ Apply Fix: Ensure correct data types for each field\n",
    "    articles_list.append({\n",
    "        \"title\": article.get(\"title\", \"Unknown title\"),\n",
    "        \"url\": url,\n",
    "        \"published_date\": article.get(\"published_at\", \"Unknown date\"),\n",
    "        \"source_name\": article[\"source\"][\"name\"] if isinstance(article.get(\"source\"), dict) else \"Unknown source\",\n",
    "        \"author\": article[\"author\"] if isinstance(article.get(\"author\"), str) else \"Unknown author\",\n",
    "        \"category\": article[\"category\"] if isinstance(article.get(\"category\"), str) else \"Unknown category\",\n",
    "        \"content\": full_text\n",
    "    })\n",
    "\n",
    "    time.sleep(2)  # Avoid being blocked by rate limits\n",
    "\n",
    "# 🔹 Save articles in JSON format\n",
    "with open(\"news.json\", \"w\", encoding=\"utf-8\") as f:\n",
    "    json.dump(articles_list, f, indent=4)\n",
    "\n",
    "print(f\"✅ {len(articles_list)} articles saved in 'news.json'.\")\n"
   ]
  },
  {
   "cell_type": "code",
   "execution_count": 6,
   "metadata": {},
   "outputs": [
    {
     "name": "stdout",
     "output_type": "stream",
     "text": [
      "✅ ChromaDB instance found. Using existing database.\n",
      "✅ Collection 'news_articles' exists.\n",
      "✅ ChromaDB is ready to use.\n"
     ]
    }
   ],
   "source": [
    "import os\n",
    "import chromadb\n",
    "\n",
    "# ✅ Define ChromaDB path (stored one directory above)\n",
    "CHROMA_DB_PATH = \"../chroma_db\"\n",
    "\n",
    "# 🔍 Check if the ChromaDB folder exists\n",
    "if not os.path.exists(CHROMA_DB_PATH):\n",
    "    print(\"⚠️ ChromaDB instance not found. Creating a new one...\")\n",
    "    os.makedirs(CHROMA_DB_PATH)  # Create the folder if missing\n",
    "else:\n",
    "    print(\"✅ ChromaDB instance found. Using existing database.\")\n",
    "\n",
    "# ✅ Initialize ChromaDB\n",
    "client = chromadb.PersistentClient(path=CHROMA_DB_PATH)\n",
    "\n",
    "# ✅ Get or Create Collection\n",
    "collection_name = \"news_articles\"\n",
    "\n",
    "try:\n",
    "    collection = client.get_collection(collection_name)\n",
    "    print(f\"✅ Collection '{collection_name}' exists.\")\n",
    "except Exception:\n",
    "    print(f\"⚠️ Collection '{collection_name}' not found. Creating a new one...\")\n",
    "    collection = client.create_collection(collection_name)\n",
    "\n",
    "print(f\"✅ ChromaDB is ready to use.\")\n"
   ]
  },
  {
   "cell_type": "code",
   "execution_count": 7,
   "metadata": {},
   "outputs": [
    {
     "name": "stdout",
     "output_type": "stream",
     "text": [
      "🔄 Converting articles to embeddings and storing them in ChromaDB...\n",
      "✅ Articles converted to embeddings and stored in ChromaDB.\n"
     ]
    }
   ],
   "source": [
    "import json\n",
    "from sentence_transformers import SentenceTransformer\n",
    "\n",
    "# ✅ Load articles from news.json\n",
    "with open(\"news.json\", \"r\", encoding=\"utf-8\") as f:\n",
    "    articles_list = json.load(f)\n",
    "\n",
    "# 🔄 Convert articles to embeddings and store in ChromaDB\n",
    "print(\"🔄 Converting articles to embeddings and storing them in ChromaDB...\")\n",
    "\n",
    "# ✅ Load embedding model\n",
    "embedding_model = SentenceTransformer(\"all-MiniLM-L6-v2\")\n",
    "\n",
    "# ✅ Check existing document IDs in ChromaDB to prevent duplicates\n",
    "existing_ids = set(collection.get()[\"ids\"])\n",
    "\n",
    "new_entries = []\n",
    "for article in articles_list:\n",
    "    article_id = article[\"url\"]\n",
    "    if article_id not in existing_ids:  # Avoid duplicates\n",
    "        text = f\"{article['title']} {article['content']}\"\n",
    "        embedding = embedding_model.encode(text).tolist()\n",
    "\n",
    "        new_entries.append({\n",
    "            \"document\": text,\n",
    "            \"metadata\": {\n",
    "                \"title\": article[\"title\"],\n",
    "                \"url\": article[\"url\"],\n",
    "                \"published_date\": article[\"published_date\"],\n",
    "                \"source_name\": article[\"source_name\"],\n",
    "                \"author\": article[\"author\"],\n",
    "                \"category\": article[\"category\"]\n",
    "            },\n",
    "            \"id\": article_id,\n",
    "            \"embedding\": embedding\n",
    "        })\n",
    "\n",
    "# ✅ Add new articles to ChromaDB\n",
    "if new_entries:\n",
    "    collection.add(\n",
    "        documents=[entry[\"document\"] for entry in new_entries],\n",
    "        metadatas=[entry[\"metadata\"] for entry in new_entries],\n",
    "        ids=[entry[\"id\"] for entry in new_entries],\n",
    "        embeddings=[entry[\"embedding\"] for entry in new_entries]\n",
    "    )\n",
    "    print(f\"✅ {len(new_entries)} new articles added to ChromaDB.\")\n",
    "else:\n",
    "    print(\"🔹 No new articles added. Database is up to date.\")\n"
   ]
  },
  {
   "cell_type": "markdown",
   "metadata": {},
   "source": []
  },
  {
   "cell_type": "code",
   "execution_count": null,
   "metadata": {},
   "outputs": [],
   "source": []
  },
  {
   "cell_type": "markdown",
   "metadata": {},
   "source": []
  },
  {
   "cell_type": "markdown",
   "metadata": {},
   "source": []
  },
  {
   "cell_type": "code",
   "execution_count": null,
   "metadata": {},
   "outputs": [],
   "source": []
  },
  {
   "cell_type": "markdown",
   "metadata": {},
   "source": [
    "# 🔹 CONFIG: Set `purge_db = True` to DELETE & RESET the database\n",
    "purge_db = True  # Set to True to delete existing DB and start fresh\n",
    "\n",
    "# ✅ Define ChromaDB path\n",
    "CHROMA_DB_PATH = \"./chroma_db\"\n",
    "COLLECTION_NAME = \"news_articles\"\n",
    "\n",
    "# 🔍 Check if ChromaDB exists\n",
    "if not os.path.exists(CHROMA_DB_PATH):\n",
    "    print(\"⚠️ ChromaDB instance not found. Creating a new one...\")\n",
    "    os.makedirs(CHROMA_DB_PATH)\n",
    "else:\n",
    "    print(\"✅ ChromaDB instance found. Using existing database.\")\n",
    "\n",
    "# 🔥 Purge Database If `purge_db` is Enabled\n",
    "if purge_db:\n",
    "    print(\"⚠️ Purging existing ChromaDB...\")\n",
    "    shutil.rmtree(CHROMA_DB_PATH, ignore_errors=True)  # ✅ Remove the directory properly\n",
    "    os.makedirs(CHROMA_DB_PATH, exist_ok=True)  # ✅ Recreate empty directory\n",
    "    print(\"✅ ChromaDB successfully reset.\")\n"
   ]
  },
  {
   "cell_type": "code",
   "execution_count": 1,
   "metadata": {},
   "outputs": [
    {
     "data": {
      "text/plain": [
       "'\\n\\nimport shutil\\n\\n# 🔹 CONFIG: Set `purge_db = True` to DELETE & RESET the database\\npurge_db = True  # Set to True to delete existing DB and start fresh\\n\\n# ✅ Define ChromaDB path\\nCHROMA_DB_PATH = \"./chroma_db\"\\nCOLLECTION_NAME = \"news_articles\"\\n\\n# 🔍 Check if ChromaDB exists\\nif not os.path.exists(CHROMA_DB_PATH):\\n    print(\"⚠️ ChromaDB instance not found. Creating a new one...\")\\n    os.makedirs(CHROMA_DB_PATH)\\nelse:\\n    print(\"✅ ChromaDB instance found. Using existing database.\")\\n\\n# 🔥 Purge Database If `purge_db` is Enabled\\nif purge_db:\\n    print(\"⚠️ Purging existing ChromaDB...\")\\n    shutil.rmtree(CHROMA_DB_PATH, ignore_errors=True)  # ✅ Remove the directory properly\\n    os.makedirs(CHROMA_DB_PATH, exist_ok=True)  # ✅ Recreate empty directory\\n    print(\"✅ ChromaDB successfully reset.\")\\n    \\n'"
      ]
     },
     "execution_count": 1,
     "metadata": {},
     "output_type": "execute_result"
    }
   ],
   "source": [
    "'''\n",
    "\n",
    "import shutil\n",
    "\n",
    "# 🔹 CONFIG: Set `purge_db = True` to DELETE & RESET the database\n",
    "purge_db = True  # Set to True to delete existing DB and start fresh\n",
    "\n",
    "# ✅ Define ChromaDB path\n",
    "CHROMA_DB_PATH = \"./chroma_db\"\n",
    "COLLECTION_NAME = \"news_articles\"\n",
    "\n",
    "# 🔍 Check if ChromaDB exists\n",
    "if not os.path.exists(CHROMA_DB_PATH):\n",
    "    print(\"⚠️ ChromaDB instance not found. Creating a new one...\")\n",
    "    os.makedirs(CHROMA_DB_PATH)\n",
    "else:\n",
    "    print(\"✅ ChromaDB instance found. Using existing database.\")\n",
    "\n",
    "# 🔥 Purge Database If `purge_db` is Enabled\n",
    "if purge_db:\n",
    "    print(\"⚠️ Purging existing ChromaDB...\")\n",
    "    shutil.rmtree(CHROMA_DB_PATH, ignore_errors=True)  # ✅ Remove the directory properly\n",
    "    os.makedirs(CHROMA_DB_PATH, exist_ok=True)  # ✅ Recreate empty directory\n",
    "    print(\"✅ ChromaDB successfully reset.\")\n",
    "    \n",
    "'''"
   ]
  }
 ],
 "metadata": {
  "kernelspec": {
   "display_name": ".venv",
   "language": "python",
   "name": "python3"
  },
  "language_info": {
   "codemirror_mode": {
    "name": "ipython",
    "version": 3
   },
   "file_extension": ".py",
   "mimetype": "text/x-python",
   "name": "python",
   "nbconvert_exporter": "python",
   "pygments_lexer": "ipython3",
   "version": "3.11.3"
  }
 },
 "nbformat": 4,
 "nbformat_minor": 2
}
