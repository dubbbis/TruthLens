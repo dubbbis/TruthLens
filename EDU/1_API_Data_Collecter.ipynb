{
 "cells": [
  {
   "cell_type": "markdown",
   "metadata": {},
   "source": [
    "## Explanation of the Code\n",
    "\n",
    "1️⃣ **Fetch news from Mediastack**  \n",
    "   - Fetches articles based on your API key and fetch limit (e.g., 10 articles).\n",
    "\n",
    "2️⃣ **Check for paywalled articles**  \n",
    "   - Skips articles from known paywalled domains (e.g., New York Times).\n",
    "\n",
    "3️⃣ **Extract full article text**  \n",
    "   - Attempts to extract text using `newspaper3k`, `Unstructured`, and `BeautifulSoup`.\n",
    "\n",
    "4️⃣ **Store articles in JSON**  \n",
    "   - Saves the articles in a JSON file (`news.json`).\n",
    "\n",
    "5️⃣ **Convert text to embeddings**  \n",
    "   - Uses the `SentenceTransformer` to generate embeddings for each article's text.\n",
    "\n",
    "6️⃣ **Store embeddings in ChromaDB**  \n",
    "   - Adds the generated embeddings into ChromaDB for semantic search.\n"
   ]
  },
  {
   "cell_type": "markdown",
   "metadata": {},
   "source": [
    "--- ## NOTE: the current chroma_db directory is one up, if this structure changes, it needs to change too. \\\n",
    "find it below"
   ]
  },
  {
   "cell_type": "markdown",
   "metadata": {},
   "source": [
    "### to install\n",
    "\n",
    "pip install fake-useragent newspaper3k lxml_html_clean requests unstructured bs4 chromadb sentence-transformers"
   ]
  },
  {
   "cell_type": "code",
   "execution_count": 5,
   "metadata": {},
   "outputs": [],
   "source": [
    "import os\n",
    "import requests\n",
    "import json\n",
    "import time\n",
    "from datetime import datetime\n",
    "from unstructured.partition.html import partition_html\n",
    "from bs4 import BeautifulSoup\n",
    "from fake_useragent import UserAgent\n",
    "from newspaper import Article"
   ]
  },
  {
   "cell_type": "code",
   "execution_count": 20,
   "metadata": {},
   "outputs": [],
   "source": [
    "# CONFIGURATION\n",
    "\n",
    "MAX_ARTICLES = 5  # Change this to limit results\n",
    "\n",
    "\n",
    "API_KEY = \"356bb7cd80f02083d604ba6ba1dfadd8\"\n",
    "BASE_URL = f\"http://api.mediastack.com/v1/news?access_key={API_KEY}&countries=us&limit={MAX_ARTICLES}\"\n",
    "\n",
    "\n",
    "## Run this if you want to check that the API key works\n",
    "\n",
    "# print(\"🔍 Checking API Response:\")\n",
    "# print(json.dumps(response.json(), indent=4))  # Pretty-print the JSON response\n"
   ]
  },
  {
   "cell_type": "code",
   "execution_count": 21,
   "metadata": {},
   "outputs": [
    {
     "name": "stdout",
     "output_type": "stream",
     "text": [
      "🔍 [1/5] Processing: https://www.mymotherlode.com/news/europe/3536936/greece-says-over-100-migrants-are-detained-as-officials-link-the-surge-in-arrivals-to-mideast-wars.html\n",
      "🔍 [2/5] Processing: https://www.naharnet.com/stories/en/311070-un-says-delay-in-israel-s-withdrawal-from-south-lebanon-violation-of-1701\n",
      "🔍 [3/5] Processing: https://orissadiary.com/former-uk-pm-rishi-sunak-visits-parliament-house-with-family/\n",
      "🔍 [4/5] Processing: https://nesn.com/2025/02/vladimir-guerrero-jr-rumors-these-teams-favorites-to-sign-slugger/\n",
      "🔍 [5/5] Processing: https://www.denverpost.com/2025/02/18/colorado-weather-forecast-arctic-blast-snow-mountains-freezing-temperatures/\n",
      "✅ 5 articles saved in 'NEWS_FILES\\news_2025-02-18_3.json'.\n"
     ]
    }
   ],
   "source": [
    "NEWS_DIR = \"NEWS_FILES\"\n",
    "os.makedirs(NEWS_DIR, exist_ok=True)  # Ensure archive directory exists\n",
    "\n",
    "# ✅ User-Agent Rotator & Paywall Handling\n",
    "ua = UserAgent()\n",
    "paywalled_domains = {\"nytimes.com\", \"washingtonpost.com\", \"theatlantic.com\", \"bloomberg.com\"}\n",
    "\n",
    "def is_paywalled(url):\n",
    "    return any(domain in url for domain in paywalled_domains)\n",
    "\n",
    "def extract_full_text(url):\n",
    "    \"\"\"Extracts article content using newspaper3k, Unstructured, and BeautifulSoup.\"\"\"\n",
    "    try:\n",
    "        headers = {'User-Agent': ua.random}\n",
    "        page = requests.get(url, headers=headers, timeout=10)\n",
    "\n",
    "        if page.status_code != 200:\n",
    "            return f\"Error: Page returned status code {page.status_code}\"\n",
    "\n",
    "        article = Article(url)\n",
    "        article.download()\n",
    "        article.parse()\n",
    "        if len(article.text) > 500:\n",
    "            return article.text\n",
    "\n",
    "        elements = partition_html(text=page.text)\n",
    "        extracted_text = \"\\n\".join([el.text for el in elements if el.text.strip()])\n",
    "        if len(extracted_text) > 500:\n",
    "            return extracted_text\n",
    "\n",
    "        soup = BeautifulSoup(page.text, \"html.parser\")\n",
    "        paragraphs = soup.find_all(\"p\")\n",
    "        extracted_text = \"\\n\".join([p.get_text() for p in paragraphs])\n",
    "        return extracted_text if len(extracted_text) > 500 else \"Content could not be extracted.\"\n",
    "    \n",
    "    except Exception as e:\n",
    "        return f\"Error extracting content: {str(e)}\"\n",
    "\n",
    "# ✅ Fetch & Process News\n",
    "response = requests.get(BASE_URL)\n",
    "news_data = response.json().get(\"data\", [])[:MAX_ARTICLES]\n",
    "\n",
    "articles_list = []\n",
    "for i, article in enumerate(news_data):\n",
    "    url = article.get(\"url\", \"\")\n",
    "    \n",
    "    if not url or is_paywalled(url):\n",
    "        print(f\"🚫 Skipping paywalled article: {url}\")\n",
    "        continue\n",
    "\n",
    "    print(f\"🔍 [{i+1}/{MAX_ARTICLES}] Processing: {url}\")\n",
    "    full_text = extract_full_text(url)\n",
    "\n",
    "    articles_list.append({\n",
    "        \"title\": article.get(\"title\", \"Unknown title\"),\n",
    "        \"url\": url,\n",
    "        \"published_date\": article.get(\"published_at\", \"Unknown date\"),\n",
    "        \"source_name\": article[\"source\"][\"name\"] if isinstance(article.get(\"source\"), dict) else \"Unknown source\",\n",
    "        \"author\": article[\"author\"] if isinstance(article.get(\"author\"), str) else \"Unknown author\",\n",
    "        \"category\": article[\"category\"] if isinstance(article.get(\"category\"), str) else \"Unknown category\",\n",
    "        \"content\": full_text\n",
    "    })\n",
    "    time.sleep(2)  # Avoid API rate limits\n",
    "\n",
    "# ✅ Save Archived JSON File\n",
    "date_str = datetime.now().strftime(\"%Y-%m-%d\")\n",
    "json_files = [f for f in os.listdir(NEWS_DIR) if f.startswith(f\"news_{date_str}\")]\n",
    "file_number = len(json_files) + 1\n",
    "filename = f\"news_{date_str}_{file_number}.json\"\n",
    "filepath = os.path.join(NEWS_DIR, filename)\n",
    "\n",
    "with open(filepath, \"w\", encoding=\"utf-8\") as f:\n",
    "    json.dump(articles_list, f, indent=4)\n",
    "\n",
    "print(f\"✅ {len(articles_list)} articles saved in '{filepath}'.\")\n"
   ]
  },
  {
   "cell_type": "markdown",
   "metadata": {},
   "source": [
    "### Checking the ChromaDB"
   ]
  },
  {
   "cell_type": "code",
   "execution_count": 14,
   "metadata": {},
   "outputs": [
    {
     "name": "stdout",
     "output_type": "stream",
     "text": [
      "✅ ChromaDB instance found. Using existing database.\n",
      "✅ Collection 'news_articles' exists.\n",
      "✅ ChromaDB is ready to use.\n"
     ]
    }
   ],
   "source": [
    "import os\n",
    "import chromadb\n",
    "\n",
    "# ✅ ChromaDB Path\n",
    "CHROMA_DB_PATH = \"../chroma_db\"\n",
    "\n",
    "# ✅ Ensure ChromaDB Exists\n",
    "if not os.path.exists(CHROMA_DB_PATH):\n",
    "    print(\"⚠️ ChromaDB instance not found. Creating a new one...\")\n",
    "    os.makedirs(CHROMA_DB_PATH)  \n",
    "else:\n",
    "    print(\"✅ ChromaDB instance found. Using existing database.\")\n",
    "\n",
    "# ✅ Initialize Client & Collection\n",
    "client = chromadb.PersistentClient(path=CHROMA_DB_PATH)\n",
    "collection_name = \"news_articles\"\n",
    "\n",
    "try:\n",
    "    collection = client.get_collection(collection_name)\n",
    "    print(f\"✅ Collection '{collection_name}' exists.\")\n",
    "except Exception:\n",
    "    print(f\"⚠️ Collection '{collection_name}' not found. Creating a new one...\")\n",
    "    collection = client.create_collection(collection_name)\n",
    "\n",
    "print(f\"✅ ChromaDB is ready to use.\")\n"
   ]
  },
  {
   "cell_type": "markdown",
   "metadata": {},
   "source": [
    "### Adding Entries to ChromaDB from the newly generated news.json file and archiving it\n",
    "\n",
    "It checks for the most recent file from NEWS_FILES directory\n",
    "- Toggle if you wish to check all files."
   ]
  },
  {
   "cell_type": "code",
   "execution_count": 18,
   "metadata": {},
   "outputs": [
    {
     "name": "stdout",
     "output_type": "stream",
     "text": [
      "🔍 Processing LATEST file: news_2025-02-18.json\n",
      "✅ Loaded 10 articles from news_2025-02-18.json.\n",
      "✅ 10 new articles added to ChromaDB.\n"
     ]
    }
   ],
   "source": [
    "import os\n",
    "import json\n",
    "from sentence_transformers import SentenceTransformer\n",
    "\n",
    "# ✅ CONFIGURATION\n",
    "NEWS_DIR = \"NEWS_FILES\"\n",
    "check_all_files = False  # Toggle: True to check all files, False to only process the latest file\n",
    "\n",
    "# ✅ Get Files to Process\n",
    "if check_all_files:\n",
    "    news_files = sorted(os.listdir(NEWS_DIR))  # Get all files\n",
    "    print(f\"🔍 Processing ALL {len(news_files)} news files in {NEWS_DIR}\")\n",
    "else:\n",
    "    news_files = [sorted(os.listdir(NEWS_DIR))[-1]]  # Get only the most recent file\n",
    "    print(f\"🔍 Processing LATEST file: {news_files[0]}\")\n",
    "\n",
    "# ✅ Load Embedding Model\n",
    "embedding_model = SentenceTransformer(\"all-MiniLM-L6-v2\")\n",
    "\n",
    "# ✅ Get Existing Entries in ChromaDB to Avoid Duplicates\n",
    "existing_ids = set(collection.get()[\"ids\"])\n",
    "new_entries = []\n",
    "seen_ids = set()  # Local set to track duplicates within the batch\n",
    "\n",
    "# ✅ Process Each File\n",
    "for news_file in news_files:\n",
    "    news_filepath = os.path.join(NEWS_DIR, news_file)\n",
    "\n",
    "    try:\n",
    "        with open(news_filepath, \"r\", encoding=\"utf-8\") as f:\n",
    "            articles_list = json.load(f)\n",
    "\n",
    "        print(f\"✅ Loaded {len(articles_list)} articles from {news_file}.\")\n",
    "\n",
    "        # ✅ Process Articles\n",
    "        for article in articles_list:\n",
    "            article_id = article[\"url\"]\n",
    "\n",
    "            # ✅ Check if already in ChromaDB or seen in current batch\n",
    "            if article_id in existing_ids or article_id in seen_ids:\n",
    "                print(f\"🚫 Skipping duplicate: {article_id}\")\n",
    "                continue  # Skip duplicate\n",
    "\n",
    "            text = f\"{article['title']} {article['content']}\"\n",
    "            embedding = embedding_model.encode(text).tolist()\n",
    "\n",
    "            new_entries.append({\n",
    "                \"document\": text,\n",
    "                \"metadata\": {\n",
    "                    \"title\": article[\"title\"],\n",
    "                    \"url\": article[\"url\"],\n",
    "                    \"published_date\": article[\"published_date\"],\n",
    "                    \"source_name\": article[\"source_name\"],\n",
    "                    \"author\": article[\"author\"],\n",
    "                    \"category\": article[\"category\"]\n",
    "                },\n",
    "                \"id\": article_id,\n",
    "                \"embedding\": embedding\n",
    "            })\n",
    "\n",
    "            seen_ids.add(article_id)  # ✅ Track new IDs to prevent duplicates in this batch\n",
    "\n",
    "    except Exception as e:\n",
    "        print(f\"⚠️ Error processing {news_file}: {str(e)}\")\n",
    "\n",
    "# ✅ Store in ChromaDB\n",
    "if new_entries:\n",
    "    collection.add(\n",
    "        documents=[entry[\"document\"] for entry in new_entries],\n",
    "        metadatas=[entry[\"metadata\"] for entry in new_entries],\n",
    "        ids=[entry[\"id\"] for entry in new_entries],\n",
    "        embeddings=[entry[\"embedding\"] for entry in new_entries]\n",
    "    )\n",
    "    print(f\"✅ {len(new_entries)} new articles added to ChromaDB.\")\n",
    "else:\n",
    "    print(\"🔹 No new articles added. Database is up to date.\")\n"
   ]
  },
  {
   "cell_type": "markdown",
   "metadata": {},
   "source": []
  },
  {
   "cell_type": "markdown",
   "metadata": {},
   "source": []
  },
  {
   "cell_type": "markdown",
   "metadata": {},
   "source": []
  }
 ],
 "metadata": {
  "kernelspec": {
   "display_name": ".venv",
   "language": "python",
   "name": "python3"
  },
  "language_info": {
   "codemirror_mode": {
    "name": "ipython",
    "version": 3
   },
   "file_extension": ".py",
   "mimetype": "text/x-python",
   "name": "python",
   "nbconvert_exporter": "python",
   "pygments_lexer": "ipython3",
   "version": "3.11.3"
  }
 },
 "nbformat": 4,
 "nbformat_minor": 2
}
