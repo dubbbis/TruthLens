{
 "cells": [
  {
   "cell_type": "markdown",
   "metadata": {},
   "source": [
    "## Explanation of the Code\n",
    "\n",
    "1️⃣ **Fetch news from Mediastack**  \n",
    "   - Fetches articles based on your API key and fetch limit (e.g., 10 articles).\n",
    "\n",
    "2️⃣ **Check for paywalled articles**  \n",
    "   - Skips articles from known paywalled domains (e.g., New York Times).\n",
    "\n",
    "3️⃣ **Extract full article text**  \n",
    "   - Attempts to extract text using `newspaper3k`, `Unstructured`, and `BeautifulSoup`.\n",
    "\n",
    "4️⃣ **Store articles in JSON**  \n",
    "   - Saves the articles in a JSON file (`news.json`).\n",
    "\n",
    "5️⃣ **Convert text to embeddings**  \n",
    "   - Uses the `SentenceTransformer` to generate embeddings for each article's text.\n",
    "\n",
    "6️⃣ **Store embeddings in ChromaDB**  \n",
    "   - Adds the generated embeddings into ChromaDB for semantic search.\n"
   ]
  },
  {
   "cell_type": "markdown",
   "metadata": {},
   "source": [
    "--- ## NOTE: the current chroma_db directory is one up, if this structure changes, it needs to change too. \\\n",
    "find it below"
   ]
  },
  {
   "cell_type": "markdown",
   "metadata": {},
   "source": [
    "### to install\n",
    "\n",
    "pip install fake-useragent && pip install newspaper3k && pip install lxml_html_clean"
   ]
  },
  {
   "cell_type": "code",
   "execution_count": 5,
   "metadata": {},
   "outputs": [
    {
     "name": "stdout",
     "output_type": "stream",
     "text": [
      "🔍 [1/50] Processing: https://www.marketbeat.com/instant-alerts/deere-company-nysede-shares-sold-by-mathes-company-inc-2025-02-17/\n",
      "🔍 [2/50] Processing: https://www.marketbeat.com/instant-alerts/mathes-company-inc-has-416-million-position-in-the-procter-gamble-company-nysepg-2025-02-17/\n",
      "🔍 [3/50] Processing: https://www.marketbeat.com/instant-alerts/servicenow-inc-nysenow-shares-sold-by-mathes-company-inc-2025-02-17/\n",
      "🔍 [4/50] Processing: https://www.marketbeat.com/instant-alerts/mathes-company-inc-sells-421-shares-of-parker-hannifin-co-nyseph-2025-02-17/\n",
      "🔍 [5/50] Processing: https://www.marketbeat.com/instant-alerts/mathes-company-inc-sells-1277-shares-of-general-electric-nysege-2025-02-17/\n",
      "🔍 [6/50] Processing: https://www.marketbeat.com/instant-alerts/mathes-company-inc-has-746-million-stock-position-in-ge-vernova-inc-nysegev-2025-02-17/\n",
      "🔍 [7/50] Processing: https://www.marketbeat.com/instant-alerts/woodard-co-asset-management-group-inc-adv-invests-712000-in-vertiv-holdings-co-nysevrt-2025-02-17/\n",
      "🔍 [8/50] Processing: https://www.marketbeat.com/instant-alerts/11861-shares-in-chipotle-mexican-grill-inc-nysecmg-bought-by-woodard-co-asset-management-group-inc-adv-2025-02-17/\n",
      "🔍 [9/50] Processing: https://www.marketbeat.com/instant-alerts/2331-shares-in-salesforce-inc-nysecrm-purchased-by-woodard-co-asset-management-group-inc-adv-2025-02-17/\n",
      "🔍 [10/50] Processing: https://sportgrill.co.uk/2025/02/17/art-gp-re-signs-martins-for-2025-f2-season/\n",
      "🔍 [11/50] Processing: https://www.marketbeat.com/instant-alerts/woodard-co-asset-management-group-inc-adv-buys-5833-shares-of-micron-technology-inc-nasdaqmu-2025-02-17/\n",
      "🔍 [12/50] Processing: https://www.marketbeat.com/instant-alerts/woodard-co-asset-management-group-inc-adv-purchases-shares-of-45434-devon-energy-co-nysedvn-2025-02-17/\n",
      "🔍 [13/50] Processing: https://www.marketbeat.com/instant-alerts/woodard-co-asset-management-group-inc-adv-purchases-4762-shares-of-oracle-co-nyseorcl-2025-02-17/\n",
      "🔍 [14/50] Processing: https://www.marketbeat.com/instant-alerts/woodard-co-asset-management-group-inc-adv-has-179-million-stock-position-in-marathon-petroleum-co-nysempc-2025-02-17/\n",
      "🔍 [15/50] Processing: https://www.marketbeat.com/instant-alerts/the-procter-gamble-company-nysepg-shares-acquired-by-woodard-co-asset-management-group-inc-adv-2025-02-17/\n",
      "🔍 [16/50] Processing: https://www.marketbeat.com/instant-alerts/woodard-co-asset-management-group-inc-adv-has-351-million-position-in-general-electric-nysege-2025-02-17/\n",
      "🔍 [17/50] Processing: https://www.marketbeat.com/instant-alerts/partners-capital-investment-group-llp-trims-stake-in-allogene-therapeutics-inc-nasdaqallo-2025-02-17/\n",
      "🔍 [18/50] Processing: https://www.marketbeat.com/instant-alerts/partners-capital-investment-group-llp-sells-1084012-shares-of-kronos-bio-inc-nasdaqkron-2025-02-17/\n",
      "🔍 [19/50] Processing: https://www.marketbeat.com/instant-alerts/partners-capital-investment-group-llp-has-701000-stock-holdings-in-blackstone-mortgage-trust-inc-nysebxmt-2025-02-17/\n",
      "🔍 [20/50] Processing: https://www.marketbeat.com/instant-alerts/partners-capital-investment-group-llp-lowers-stake-in-howmet-aerospace-inc-nysehwm-2025-02-17/\n",
      "🔍 [21/50] Processing: https://www.marketbeat.com/instant-alerts/partners-capital-investment-group-llp-decreases-stock-position-in-hb-fuller-nyseful-2025-02-17/\n",
      "🔍 [22/50] Processing: https://www.marketbeat.com/instant-alerts/partners-capital-investment-group-llp-lowers-stock-position-in-argenx-se-nasdaqargx-2025-02-17/\n",
      "🔍 [23/50] Processing: https://www.marketbeat.com/instant-alerts/partners-capital-investment-group-llp-has-263-million-holdings-in-hubspot-inc-nysehubs-2025-02-17/\n",
      "🔍 [24/50] Processing: https://www.marketbeat.com/instant-alerts/partners-capital-investment-group-llp-sells-5231-shares-of-servicenow-inc-nysenow-2025-02-17/\n",
      "🔍 [25/50] Processing: https://www.marketbeat.com/instant-alerts/csx-co-nasdaqcsx-shares-sold-by-partners-capital-investment-group-llp-2025-02-17/\n",
      "🔍 [26/50] Processing: https://www.marketbeat.com/instant-alerts/partners-capital-investment-group-llp-sells-8736-shares-of-invesco-qqq-nasdaqqqq-2025-02-17/\n",
      "🔍 [27/50] Processing: https://www.marketbeat.com/instant-alerts/partners-capital-investment-group-llp-sells-154597-shares-of-us-bancorp-nyseusb-2025-02-17/\n",
      "🔍 [28/50] Processing: https://www.marketbeat.com/instant-alerts/partners-capital-investment-group-llp-sells-13051-shares-of-aon-plc-nyseaon-2025-02-17/\n",
      "🔍 [29/50] Processing: https://www.marketbeat.com/instant-alerts/11531-shares-in-deere-company-nysede-acquired-by-partners-capital-investment-group-llp-2025-02-17/\n",
      "🔍 [30/50] Processing: https://www.marketbeat.com/instant-alerts/partners-capital-investment-group-llp-decreases-stock-holdings-in-vulcan-materials-nysevmc-2025-02-17/\n",
      "🔍 [31/50] Processing: https://www.marketbeat.com/instant-alerts/partners-capital-investment-group-llp-has-498-million-stock-holdings-in-brookfield-co-nysebn-2025-02-17/\n",
      "🔍 [32/50] Processing: https://www.marketbeat.com/instant-alerts/76230-shares-in-restaurant-brands-international-inc-nyseqsr-bought-by-partners-capital-investment-group-llp-2025-02-17/\n",
      "🔍 [33/50] Processing: https://www.marketbeat.com/instant-alerts/bristol-myers-squibb-nysebmy-shares-sold-by-partners-capital-investment-group-llp-2025-02-17/\n",
      "🔍 [34/50] Processing: https://www.marketbeat.com/instant-alerts/partners-capital-investment-group-llp-trims-stock-holdings-in-salesforce-inc-nysecrm-2025-02-17/\n",
      "🔍 [35/50] Processing: https://www.marketbeat.com/instant-alerts/partners-capital-investment-group-llp-sells-9398-shares-of-thermo-fisher-scientific-inc-nysetmo-2025-02-17/\n",
      "🔍 [36/50] Processing: https://www.marketbeat.com/instant-alerts/partners-capital-investment-group-llp-sells-4939-shares-of-transdigm-group-incorporated-nysetdg-2025-02-17/\n",
      "🔍 [37/50] Processing: https://www.marketbeat.com/instant-alerts/fox-co-nasdaqfoxa-shares-sold-by-partners-capital-investment-group-llp-2025-02-17/\n",
      "🔍 [38/50] Processing: https://www.marketbeat.com/instant-alerts/partners-capital-investment-group-llp-sells-29549-shares-of-taiwan-semiconductor-manufacturing-company-limited-nysetsm-2025-02-17/\n",
      "🔍 [39/50] Processing: https://www.marketbeat.com/instant-alerts/t-mobile-us-inc-nasdaqtmus-is-advanced-asset-management-advisors-incs-6th-largest-position-2025-02-17/\n",
      "🔍 [40/50] Processing: https://www.marketbeat.com/instant-alerts/human-investing-llc-sells-6241-shares-of-us-bancorp-nyseusb-2025-02-17/\n",
      "🔍 [41/50] Processing: https://bernews.com/2025/02/feb17-bryce-montgomery-assist-bison-defeat/\n",
      "🔍 [42/50] Processing: https://www.deccanchronicle.com/world/indian-ambassador-unveils-thiruvalluvar-statue-in-the-philippines-1861745\n",
      "🔍 [43/50] Processing: https://www.dailymail.co.uk/news/article-14405179/Couple-spend-300-000-turning-dilapidated-public-lavatory-dream-sea-home.html?ns_mchannel=rss&ito=1490&ns_campaign=1490\n",
      "🔍 [44/50] Processing: https://bernews.com/2025/02/ygca-tornadoes-defeat-bermuda-u-15-select/\n",
      "🔍 [45/50] Processing: https://www.thisdaylive.com/index.php/2025/02/17/abia-moves-to-stimulate-interest-of-tertiary-institution-students-in-nelfund/\n",
      "🔍 [46/50] Processing: https://www.dailymail.co.uk/news/article-14405321/Council-dog-grooming-salon-cat-cafe-planning.html?ns_mchannel=rss&ito=1490&ns_campaign=1490\n",
      "🔍 [47/50] Processing: https://www.essentiallysports.com/mlb-baseball-news-how-red-sox-stole-star-slugger-alex-bregman-after-legendary-mentors-influence/\n",
      "🔍 [48/50] Processing: https://www.zeebiz.com/trending/news-anil-singhvi-on-argentina-president-javier-milei-endorsing-tweet-cryptocurrency-libra-its-94-percent-crash-retail-investors-losing-5-billion-dollars-opposition-pump-dump-scam-calls-for-impeachment-347575\n",
      "🔍 [49/50] Processing: https://ticklethewire.com/trump-administration-ousts-more-than-400-dhs-employees-in-workforce-purge/\n",
      "🔍 [50/50] Processing: https://www.deccanchronicle.com/nation/consider-online-classes-for-law-students-delhi-hc-to-du-1861744\n",
      "✅ Articles saved in 'news.json'.\n"
     ]
    }
   ],
   "source": [
    "import requests\n",
    "import json\n",
    "import time\n",
    "import chromadb\n",
    "from sentence_transformers import SentenceTransformer\n",
    "from unstructured.partition.html import partition_html\n",
    "from bs4 import BeautifulSoup\n",
    "from fake_useragent import UserAgent\n",
    "from newspaper import Article\n",
    "\n",
    "# 🔹 CONFIGURATION: Define the Mediastack API and the number of articles to fetch\n",
    "API_KEY = \"356bb7cd80f02083d604ba6ba1dfadd8\"\n",
    "MAX_ARTICLES = 50  # You can change this to 5, 10, etc.\n",
    "\n",
    "# Mediastack Base URL\n",
    "BASE_URL = f\"http://api.mediastack.com/v1/news?access_key={API_KEY}&countries=us&limit={MAX_ARTICLES}\"\n",
    "\n",
    "# List of known paywalled domains (to avoid scraping content)\n",
    "paywalled_domains = [\"nytimes.com\", \"washingtonpost.com\", \"theatlantic.com\", \"bloomberg.com\"]\n",
    "\n",
    "# User-Agent Rotator\n",
    "ua = UserAgent()\n",
    "\n",
    "def is_paywalled(url):\n",
    "    \"\"\"Check if the article is from a paywalled domain.\"\"\"\n",
    "    return any(domain in url for domain in paywalled_domains)\n",
    "\n",
    "def extract_full_text(url):\n",
    "    \"\"\"Extract full article text using newspaper3k, Unstructured, and BeautifulSoup.\"\"\"\n",
    "    try:\n",
    "        headers = {'User-Agent': ua.random}\n",
    "        page = requests.get(url, headers=headers, timeout=10)\n",
    "\n",
    "        if page.status_code != 200:\n",
    "            return f\"Error: Page returned status code {page.status_code}\"\n",
    "\n",
    "        # Attempt 1: newspaper3k (best for full-text extraction)\n",
    "        article = Article(url)\n",
    "        article.download()\n",
    "        article.parse()\n",
    "        if len(article.text) > 500:\n",
    "            return article.text\n",
    "\n",
    "        # Attempt 2: Unstructured (fallback)\n",
    "        elements = partition_html(text=page.text)\n",
    "        extracted_text = \"\\n\".join([el.text for el in elements if el.text.strip()])\n",
    "        if len(extracted_text) > 500:\n",
    "            return extracted_text\n",
    "\n",
    "        # Attempt 3: BeautifulSoup (last resort)\n",
    "        soup = BeautifulSoup(page.text, \"html.parser\")\n",
    "        paragraphs = soup.find_all(\"p\")\n",
    "        extracted_text = \"\\n\".join([p.get_text() for p in paragraphs])\n",
    "        return extracted_text if len(extracted_text) > 500 else \"Content could not be extracted.\"\n",
    "\n",
    "    except Exception as e:\n",
    "        return f\"Error extracting content: {str(e)}\"\n",
    "\n",
    "# 🔹 Fetch news from Mediastack\n",
    "response = requests.get(BASE_URL)\n",
    "news_data = response.json().get(\"data\", [])[:MAX_ARTICLES]  # Limit articles\n",
    "\n",
    "articles_list = []\n",
    "\n",
    "# 🔹 Process each article\n",
    "for i, article in enumerate(news_data):\n",
    "    url = article.get(\"url\", \"\")\n",
    "\n",
    "    if not url or is_paywalled(url):\n",
    "        print(f\"🚫 Skipping paywalled article: {url}\")\n",
    "        continue\n",
    "\n",
    "    print(f\"🔍 [{i+1}/{MAX_ARTICLES}] Processing: {url}\")\n",
    "    full_text = extract_full_text(url)\n",
    "\n",
    "    articles_list.append({\n",
    "        \"title\": article.get(\"title\", \"Unknown title\"),\n",
    "        \"url\": url,\n",
    "        \"content\": full_text\n",
    "    })\n",
    "\n",
    "    time.sleep(2)  # Avoid being blocked by rate limits\n",
    "\n",
    "# 🔹 Save articles in JSON format\n",
    "with open(\"news.json\", \"w\", encoding=\"utf-8\") as f:\n",
    "    json.dump(articles_list, f, indent=4)\n",
    "\n",
    "print(f\"✅ Articles saved in 'news.json'.\")\n",
    "\n"
   ]
  },
  {
   "cell_type": "code",
   "execution_count": 6,
   "metadata": {},
   "outputs": [
    {
     "name": "stdout",
     "output_type": "stream",
     "text": [
      "✅ ChromaDB instance found. Using existing database.\n",
      "✅ Collection 'news_articles' exists.\n",
      "✅ ChromaDB is ready to use.\n"
     ]
    }
   ],
   "source": [
    "import os\n",
    "import chromadb\n",
    "\n",
    "## NOTE: the current chroma_db directory is one up, if this structure changes, it needs to change too.API_KEY\n",
    "## right here\n",
    "\n",
    "# Define ChromaDB path\n",
    "CHROMA_DB_PATH = \"../chroma_db\"\n",
    "\n",
    "# 🔍 Check if the ChromaDB folder exists\n",
    "if not os.path.exists(CHROMA_DB_PATH):\n",
    "    print(\"⚠️ ChromaDB instance not found. Creating a new one...\")\n",
    "    os.makedirs(CHROMA_DB_PATH)  # Create the folder if missing\n",
    "else:\n",
    "    print(\"✅ ChromaDB instance found. Using existing database.\")\n",
    "\n",
    "# ✅ Initialize ChromaDB\n",
    "client = chromadb.PersistentClient(path=CHROMA_DB_PATH)\n",
    "\n",
    "# ✅ Check if collection exists, create if missing\n",
    "collection_name = \"news_articles\"\n",
    "\n",
    "try:\n",
    "    collection = client.get_collection(collection_name)\n",
    "    print(f\"✅ Collection '{collection_name}' exists.\")\n",
    "except Exception:\n",
    "    print(f\"⚠️ Collection '{collection_name}' not found. Creating a new one...\")\n",
    "    collection = client.create_collection(collection_name)\n",
    "\n",
    "print(f\"✅ ChromaDB is ready to use.\")"
   ]
  },
  {
   "cell_type": "code",
   "execution_count": 7,
   "metadata": {},
   "outputs": [
    {
     "name": "stdout",
     "output_type": "stream",
     "text": [
      "🔄 Converting articles to embeddings and storing them in ChromaDB...\n",
      "✅ Articles converted to embeddings and stored in ChromaDB.\n"
     ]
    }
   ],
   "source": [
    "# 🔹 INTEGRATION WITH CHROMADB (Embeddings)\n",
    "print(\"🔄 Converting articles to embeddings and storing them in ChromaDB...\")\n",
    "\n",
    "\n",
    "\n",
    "# Load the embedding model\n",
    "embedding_model = SentenceTransformer(\"all-MiniLM-L6-v2\")\n",
    "\n",
    "# Convert each article to embeddings and store them in ChromaDB\n",
    "for article in articles_list:\n",
    "    text = article[\"title\"] + \" \" + article[\"content\"]\n",
    "    embedding = embedding_model.encode(text).tolist()\n",
    "\n",
    "    collection.add(\n",
    "        ids=[article[\"url\"]],\n",
    "        embeddings=[embedding],\n",
    "        metadatas=[{\"title\": article[\"title\"], \"url\": article[\"url\"]}],\n",
    "        documents=[text]\n",
    "    )\n",
    "\n",
    "print(\"✅ Articles converted to embeddings and stored in ChromaDB.\")"
   ]
  },
  {
   "cell_type": "markdown",
   "metadata": {},
   "source": []
  },
  {
   "cell_type": "code",
   "execution_count": null,
   "metadata": {},
   "outputs": [],
   "source": []
  },
  {
   "cell_type": "markdown",
   "metadata": {},
   "source": []
  },
  {
   "cell_type": "markdown",
   "metadata": {},
   "source": []
  },
  {
   "cell_type": "code",
   "execution_count": null,
   "metadata": {},
   "outputs": [],
   "source": []
  },
  {
   "cell_type": "markdown",
   "metadata": {},
   "source": [
    "# 🔹 CONFIG: Set `purge_db = True` to DELETE & RESET the database\n",
    "purge_db = True  # Set to True to delete existing DB and start fresh\n",
    "\n",
    "# ✅ Define ChromaDB path\n",
    "CHROMA_DB_PATH = \"./chroma_db\"\n",
    "COLLECTION_NAME = \"news_articles\"\n",
    "\n",
    "# 🔍 Check if ChromaDB exists\n",
    "if not os.path.exists(CHROMA_DB_PATH):\n",
    "    print(\"⚠️ ChromaDB instance not found. Creating a new one...\")\n",
    "    os.makedirs(CHROMA_DB_PATH)\n",
    "else:\n",
    "    print(\"✅ ChromaDB instance found. Using existing database.\")\n",
    "\n",
    "# 🔥 Purge Database If `purge_db` is Enabled\n",
    "if purge_db:\n",
    "    print(\"⚠️ Purging existing ChromaDB...\")\n",
    "    shutil.rmtree(CHROMA_DB_PATH, ignore_errors=True)  # ✅ Remove the directory properly\n",
    "    os.makedirs(CHROMA_DB_PATH, exist_ok=True)  # ✅ Recreate empty directory\n",
    "    print(\"✅ ChromaDB successfully reset.\")\n"
   ]
  },
  {
   "cell_type": "code",
   "execution_count": 1,
   "metadata": {},
   "outputs": [
    {
     "data": {
      "text/plain": [
       "'\\n\\nimport shutil\\n\\n# 🔹 CONFIG: Set `purge_db = True` to DELETE & RESET the database\\npurge_db = True  # Set to True to delete existing DB and start fresh\\n\\n# ✅ Define ChromaDB path\\nCHROMA_DB_PATH = \"./chroma_db\"\\nCOLLECTION_NAME = \"news_articles\"\\n\\n# 🔍 Check if ChromaDB exists\\nif not os.path.exists(CHROMA_DB_PATH):\\n    print(\"⚠️ ChromaDB instance not found. Creating a new one...\")\\n    os.makedirs(CHROMA_DB_PATH)\\nelse:\\n    print(\"✅ ChromaDB instance found. Using existing database.\")\\n\\n# 🔥 Purge Database If `purge_db` is Enabled\\nif purge_db:\\n    print(\"⚠️ Purging existing ChromaDB...\")\\n    shutil.rmtree(CHROMA_DB_PATH, ignore_errors=True)  # ✅ Remove the directory properly\\n    os.makedirs(CHROMA_DB_PATH, exist_ok=True)  # ✅ Recreate empty directory\\n    print(\"✅ ChromaDB successfully reset.\")\\n    \\n'"
      ]
     },
     "execution_count": 1,
     "metadata": {},
     "output_type": "execute_result"
    }
   ],
   "source": [
    "'''\n",
    "\n",
    "import shutil\n",
    "\n",
    "# 🔹 CONFIG: Set `purge_db = True` to DELETE & RESET the database\n",
    "purge_db = True  # Set to True to delete existing DB and start fresh\n",
    "\n",
    "# ✅ Define ChromaDB path\n",
    "CHROMA_DB_PATH = \"./chroma_db\"\n",
    "COLLECTION_NAME = \"news_articles\"\n",
    "\n",
    "# 🔍 Check if ChromaDB exists\n",
    "if not os.path.exists(CHROMA_DB_PATH):\n",
    "    print(\"⚠️ ChromaDB instance not found. Creating a new one...\")\n",
    "    os.makedirs(CHROMA_DB_PATH)\n",
    "else:\n",
    "    print(\"✅ ChromaDB instance found. Using existing database.\")\n",
    "\n",
    "# 🔥 Purge Database If `purge_db` is Enabled\n",
    "if purge_db:\n",
    "    print(\"⚠️ Purging existing ChromaDB...\")\n",
    "    shutil.rmtree(CHROMA_DB_PATH, ignore_errors=True)  # ✅ Remove the directory properly\n",
    "    os.makedirs(CHROMA_DB_PATH, exist_ok=True)  # ✅ Recreate empty directory\n",
    "    print(\"✅ ChromaDB successfully reset.\")\n",
    "    \n",
    "'''"
   ]
  }
 ],
 "metadata": {
  "kernelspec": {
   "display_name": ".venv",
   "language": "python",
   "name": "python3"
  },
  "language_info": {
   "codemirror_mode": {
    "name": "ipython",
    "version": 3
   },
   "file_extension": ".py",
   "mimetype": "text/x-python",
   "name": "python",
   "nbconvert_exporter": "python",
   "pygments_lexer": "ipython3",
   "version": "3.11.3"
  }
 },
 "nbformat": 4,
 "nbformat_minor": 2
}
