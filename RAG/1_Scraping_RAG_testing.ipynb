{
 "cells": [
  {
   "cell_type": "markdown",
   "metadata": {},
   "source": [
    "# Using Unstructured to scrape and bring in test News Articles"
   ]
  },
  {
   "cell_type": "markdown",
   "metadata": {},
   "source": [
    "## Text here explaining whats needed to install\n",
    "\n",
    "pip install unstructured requests json5\n"
   ]
  },
  {
   "cell_type": "code",
   "execution_count": null,
   "metadata": {},
   "outputs": [],
   "source": [
    "import requests\n",
    "import json\n",
    "from unstructured.partition.html import partition_html\n",
    "\n",
    "# API Key for NewsAPI\n",
    "API_KEY = \"d306519089ed41f798067a3c686b6226\"\n",
    "url = f\"https://newsapi.org/v2/top-headlines?country=us&apiKey={API_KEY}\"\n",
    "response = requests.get(url)\n",
    "articles = response.json()[\"articles\"]\n",
    "\n",
    "def extract_full_text(url):\n",
    "    \"\"\"Extracts full article text using Unstructured.\"\"\"\n",
    "    try:\n",
    "        headers = {'User-Agent': 'Mozilla/5.0'}\n",
    "        page = requests.get(url, headers=headers)\n",
    "\n",
    "        # Process the HTML and extract meaningful text\n",
    "        elements = partition_html(text=page.text)\n",
    "        extracted_text = \"\\n\".join([el.text for el in elements if el.text.strip()])\n",
    "\n",
    "        return extracted_text if extracted_text else \"Content could not be extracted.\"\n",
    "    except Exception as e:\n",
    "        return f\"Error extracting content: {str(e)}\"\n",
    "\n",
    "# Process each article\n",
    "news_data = []\n",
    "for a in articles:\n",
    "    full_text = extract_full_text(a[\"url\"])\n",
    "    news_data.append({\n",
    "        \"title\": a[\"title\"],\n",
    "        \"url\": a[\"url\"],\n",
    "        \"content\": full_text\n",
    "    })\n",
    "\n",
    "# Save extracted articles to JSON\n",
    "with open(\"news.json\", \"w\", encoding=\"utf-8\") as f:\n",
    "    json.dump(news_data, f, indent=4)\n",
    "\n",
    "print(\"✅ News articles saved with full content.\")\n"
   ]
  },
  {
   "cell_type": "code",
   "execution_count": null,
   "metadata": {},
   "outputs": [],
   "source": []
  },
  {
   "cell_type": "code",
   "execution_count": null,
   "metadata": {},
   "outputs": [],
   "source": []
  },
  {
   "cell_type": "code",
   "execution_count": null,
   "metadata": {},
   "outputs": [],
   "source": []
  },
  {
   "cell_type": "code",
   "execution_count": null,
   "metadata": {},
   "outputs": [],
   "source": []
  },
  {
   "cell_type": "code",
   "execution_count": null,
   "metadata": {},
   "outputs": [],
   "source": []
  },
  {
   "cell_type": "code",
   "execution_count": null,
   "metadata": {},
   "outputs": [],
   "source": []
  },
  {
   "cell_type": "code",
   "execution_count": null,
   "metadata": {},
   "outputs": [],
   "source": []
  }
 ],
 "metadata": {
  "kernelspec": {
   "display_name": ".venv",
   "language": "python",
   "name": "python3"
  },
  "language_info": {
   "codemirror_mode": {
    "name": "ipython",
    "version": 3
   },
   "file_extension": ".py",
   "mimetype": "text/x-python",
   "name": "python",
   "nbconvert_exporter": "python",
   "pygments_lexer": "ipython3",
   "version": "3.11.3"
  }
 },
 "nbformat": 4,
 "nbformat_minor": 2
}
